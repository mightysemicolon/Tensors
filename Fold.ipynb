{
 "cells": [
  {
   "cell_type": "code",
   "execution_count": 16,
   "metadata": {},
   "outputs": [],
   "source": [
    "import numpy as np\n",
    "from fold_unfold import Unfold_1, Unfold_2, Unfold_3"
   ]
  },
  {
   "cell_type": "markdown",
   "metadata": {},
   "source": [
    "# Fold 1"
   ]
  },
  {
   "cell_type": "code",
   "execution_count": 6,
   "metadata": {},
   "outputs": [],
   "source": [
    "def fold_1(Matrix, shape):\n",
    "\n",
    "    Tensor = np.empty(shape)\n",
    "    m, n, d = shape\n",
    "    slice = 0\n",
    "\n",
    "    for i in range(d):\n",
    "\n",
    "        Tensor[:, :, i] = Matrix[:, slice : slice + Tensor[:, :, i].shape[0]].T\n",
    "        slice = slice + Tensor[:, :, i].shape[0]\n",
    "    \n",
    "    return Tensor\n"
   ]
  },
  {
   "cell_type": "markdown",
   "metadata": {},
   "source": [
    "# Fold 2"
   ]
  },
  {
   "cell_type": "code",
   "execution_count": 7,
   "metadata": {},
   "outputs": [],
   "source": [
    "def fold_2(Matrix, shape):\n",
    "    \n",
    "    m, n, d = shape\n",
    "    tensor = np.empty(shape)\n",
    "    slice = 0 \n",
    "\n",
    "    for i in range(m):\n",
    "\n",
    "        tensor[i, :, :] = Matrix[:, slice : slice + tensor[i, :, :].shape[0]].T\n",
    "        slice = slice + tensor[i, :, :].shape[0]\n",
    "        \n",
    "    return tensor"
   ]
  },
  {
   "cell_type": "markdown",
   "metadata": {},
   "source": [
    "# Fold 3"
   ]
  },
  {
   "cell_type": "code",
   "execution_count": 8,
   "metadata": {},
   "outputs": [],
   "source": [
    "def fold_3(Matrix, shape):\n",
    "        \n",
    "    m, n, d = shape\n",
    "    Tensor = np.empty(shape)\n",
    "    slice = 0 \n",
    "\n",
    "    for i in range(n):\n",
    "        \n",
    "            Tensor[:, i, :] = Matrix[:, slice : slice + Tensor[:, i, :].shape[1]]\n",
    "            slice = slice + Tensor[:, i, :].shape[1]\n",
    "\n",
    "    return Tensor"
   ]
  },
  {
   "cell_type": "markdown",
   "metadata": {},
   "source": [
    "# Test"
   ]
  },
  {
   "cell_type": "code",
   "execution_count": 14,
   "metadata": {},
   "outputs": [],
   "source": [
    "TENSOR = np.array([\n",
    "    [[4,  2], \n",
    "     [-3, 0], # Rear Face 1\n",
    "     [0, -6],\n",
    "     [-1, 1]],\n",
    "\n",
    "    [[0, -2], \n",
    "     [1, -1], # Rear Face 2\n",
    "     [3,  4],\n",
    "     [5, -4]],\n",
    "\n",
    "    [[10, 1],\n",
    "     [5,  2], # Rear Face 3\n",
    "     [-1, 4],\n",
    "     [-2, 0]]\n",
    "])\n"
   ]
  },
  {
   "cell_type": "code",
   "execution_count": 11,
   "metadata": {},
   "outputs": [
    {
     "data": {
      "text/plain": [
       "array([[[ True,  True],\n",
       "        [ True,  True],\n",
       "        [ True,  True],\n",
       "        [ True,  True]],\n",
       "\n",
       "       [[ True,  True],\n",
       "        [ True,  True],\n",
       "        [ True,  True],\n",
       "        [ True,  True]],\n",
       "\n",
       "       [[ True,  True],\n",
       "        [ True,  True],\n",
       "        [ True,  True],\n",
       "        [ True,  True]]])"
      ]
     },
     "execution_count": 11,
     "metadata": {},
     "output_type": "execute_result"
    }
   ],
   "source": [
    "fold_1(Unfold_1(TENSOR), TENSOR.shape) == TENSOR"
   ]
  },
  {
   "cell_type": "code",
   "execution_count": 12,
   "metadata": {},
   "outputs": [
    {
     "data": {
      "text/plain": [
       "array([[[ True,  True],\n",
       "        [ True,  True],\n",
       "        [ True,  True],\n",
       "        [ True,  True]],\n",
       "\n",
       "       [[ True,  True],\n",
       "        [ True,  True],\n",
       "        [ True,  True],\n",
       "        [ True,  True]],\n",
       "\n",
       "       [[ True,  True],\n",
       "        [ True,  True],\n",
       "        [ True,  True],\n",
       "        [ True,  True]]])"
      ]
     },
     "execution_count": 12,
     "metadata": {},
     "output_type": "execute_result"
    }
   ],
   "source": [
    "fold_2(Unfold_2(TENSOR), TENSOR.shape) == TENSOR"
   ]
  },
  {
   "cell_type": "code",
   "execution_count": 13,
   "metadata": {},
   "outputs": [
    {
     "data": {
      "text/plain": [
       "array([[[ True,  True],\n",
       "        [ True,  True],\n",
       "        [ True,  True],\n",
       "        [ True,  True]],\n",
       "\n",
       "       [[ True,  True],\n",
       "        [ True,  True],\n",
       "        [ True,  True],\n",
       "        [ True,  True]],\n",
       "\n",
       "       [[ True,  True],\n",
       "        [ True,  True],\n",
       "        [ True,  True],\n",
       "        [ True,  True]]])"
      ]
     },
     "execution_count": 13,
     "metadata": {},
     "output_type": "execute_result"
    }
   ],
   "source": [
    "fold_3(Unfold_3(TENSOR), TENSOR.shape) == TENSOR"
   ]
  }
 ],
 "metadata": {
  "kernelspec": {
   "display_name": "Python 3.9.13 ('base')",
   "language": "python",
   "name": "python3"
  },
  "language_info": {
   "codemirror_mode": {
    "name": "ipython",
    "version": 3
   },
   "file_extension": ".py",
   "mimetype": "text/x-python",
   "name": "python",
   "nbconvert_exporter": "python",
   "pygments_lexer": "ipython3",
   "version": "3.9.15"
  },
  "orig_nbformat": 4,
  "vscode": {
   "interpreter": {
    "hash": "efed56f0b669d97b5fc181f64e37a1c2251cb12ecfef5496847f2e3b9effed29"
   }
  }
 },
 "nbformat": 4,
 "nbformat_minor": 2
}
