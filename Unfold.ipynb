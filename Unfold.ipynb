{
 "cells": [
  {
   "cell_type": "code",
   "execution_count": 85,
   "metadata": {},
   "outputs": [],
   "source": [
    "import numpy as np"
   ]
  },
  {
   "cell_type": "markdown",
   "metadata": {},
   "source": [
    "# unfold 1"
   ]
  },
  {
   "cell_type": "code",
   "execution_count": 86,
   "metadata": {},
   "outputs": [],
   "source": [
    "def Unfold_1(Tensor):\n",
    "\n",
    "        m, n, d = Tensor.shape\n",
    "        unfolded_tensor = np.empty((n, m * d))\n",
    "        slice = 0\n",
    "\n",
    "        for i in range(d):\n",
    "                \n",
    "                unfolded_tensor[:, slice : slice + Tensor[:, :, i].shape[0]] = Tensor[:, :, i].T\n",
    "                slice = slice + Tensor[:, :, i].shape[0]\n",
    "\n",
    "        return unfolded_tensor"
   ]
  },
  {
   "cell_type": "markdown",
   "metadata": {},
   "source": [
    "# unfold 2"
   ]
  },
  {
   "cell_type": "code",
   "execution_count": 87,
   "metadata": {},
   "outputs": [],
   "source": [
    "def Unfold_2(Tensor):\n",
    "\n",
    "    m, n, d = Tensor.shape\n",
    "    unfolded_tensor = np.empty((d, m * n))\n",
    "    slice = 0 \n",
    "\n",
    "    for i in range(m):\n",
    "        \n",
    "            unfolded_tensor[:, slice : slice + Tensor[i, :, :].shape[0]] = Tensor[i, :, :].T\n",
    "            slice = slice + Tensor[i, :, :].shape[0]\n",
    "\n",
    "    return unfolded_tensor"
   ]
  },
  {
   "cell_type": "markdown",
   "metadata": {},
   "source": [
    "# unfold 3"
   ]
  },
  {
   "cell_type": "code",
   "execution_count": 88,
   "metadata": {},
   "outputs": [],
   "source": [
    "def Unfold_3(Tensor):\n",
    "    \n",
    "    m, n, d = Tensor.shape\n",
    "    unfolded_tensor = np.empty((m, d * n))\n",
    "    slice = 0 \n",
    "\n",
    "    for i in range(n):\n",
    "        \n",
    "            unfolded_tensor[:, slice : slice + Tensor[:, i, :].shape[1]] = Tensor[:, i, :]\n",
    "            slice = slice + Tensor[:, i, :].shape[1]\n",
    "\n",
    "    return unfolded_tensor\n"
   ]
  },
  {
   "cell_type": "code",
   "execution_count": 93,
   "metadata": {},
   "outputs": [],
   "source": [
    "Tensor= np.array([\n",
    "    [[4,  2], \n",
    "     [-3, 0],\n",
    "     [0, -6],\n",
    "     [-1, 1]],\n",
    "\n",
    "    [[0, -2], \n",
    "     [1, -1],\n",
    "     [3,  4],\n",
    "     [5, -4]],\n",
    "\n",
    "     [[10, 1],\n",
    "      [5,  2],\n",
    "      [-1, 4],\n",
    "      [-2, 0]]\n",
    "])"
   ]
  },
  {
   "cell_type": "markdown",
   "metadata": {},
   "source": [
    "# Test"
   ]
  },
  {
   "cell_type": "code",
   "execution_count": 94,
   "metadata": {},
   "outputs": [
    {
     "data": {
      "text/plain": [
       "array([[ 4.,  0., 10.,  2., -2.,  1.],\n",
       "       [-3.,  1.,  5.,  0., -1.,  2.],\n",
       "       [ 0.,  3., -1., -6.,  4.,  4.],\n",
       "       [-1.,  5., -2.,  1., -4.,  0.]])"
      ]
     },
     "execution_count": 94,
     "metadata": {},
     "output_type": "execute_result"
    }
   ],
   "source": [
    "Unfold_1(Tensor)"
   ]
  },
  {
   "cell_type": "code",
   "execution_count": 95,
   "metadata": {},
   "outputs": [
    {
     "data": {
      "text/plain": [
       "array([[ 4., -3.,  0., -1.,  0.,  1.,  3.,  5., 10.,  5., -1., -2.],\n",
       "       [ 2.,  0., -6.,  1., -2., -1.,  4., -4.,  1.,  2.,  4.,  0.]])"
      ]
     },
     "execution_count": 95,
     "metadata": {},
     "output_type": "execute_result"
    }
   ],
   "source": [
    "Unfold_2(Tensor)"
   ]
  },
  {
   "cell_type": "code",
   "execution_count": 96,
   "metadata": {},
   "outputs": [
    {
     "data": {
      "text/plain": [
       "array([[ 4.,  2., -3.,  0.,  0., -6., -1.,  1.],\n",
       "       [ 0., -2.,  1., -1.,  3.,  4.,  5., -4.],\n",
       "       [10.,  1.,  5.,  2., -1.,  4., -2.,  0.]])"
      ]
     },
     "execution_count": 96,
     "metadata": {},
     "output_type": "execute_result"
    }
   ],
   "source": [
    "Unfold_3(Tensor)"
   ]
  }
 ],
 "metadata": {
  "kernelspec": {
   "display_name": "Python 3.9.13 ('base')",
   "language": "python",
   "name": "python3"
  },
  "language_info": {
   "codemirror_mode": {
    "name": "ipython",
    "version": 3
   },
   "file_extension": ".py",
   "mimetype": "text/x-python",
   "name": "python",
   "nbconvert_exporter": "python",
   "pygments_lexer": "ipython3",
   "version": "3.9.15"
  },
  "orig_nbformat": 4,
  "vscode": {
   "interpreter": {
    "hash": "efed56f0b669d97b5fc181f64e37a1c2251cb12ecfef5496847f2e3b9effed29"
   }
  }
 },
 "nbformat": 4,
 "nbformat_minor": 2
}
